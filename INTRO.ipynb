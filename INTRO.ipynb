{
 "cells": [
  {
   "cell_type": "markdown",
   "metadata": {},
   "source": [
    "<b>Introduction:</b>"
   ]
  },
  {
   "cell_type": "markdown",
   "metadata": {},
   "source": [
    "As a foreigner working/studying in Taipei (Taiwan) with little knowledge of Chinese, I face a lot of difficulties in understand the city and its people. With the power of Python, I will try to explore how things locate in this city."
   ]
  },
  {
   "cell_type": "markdown",
   "metadata": {},
   "source": [
    "<b>Method:</b>"
   ]
  },
  {
   "cell_type": "markdown",
   "metadata": {},
   "source": [
    "+ Get the location data\n",
    "+ Geocode it into lat, lon\n",
    "+ Use Foursquare to examine each neighborhood\n",
    "+ Cluster the neighborhood using KNN"
   ]
  },
  {
   "cell_type": "markdown",
   "metadata": {},
   "source": [
    "I will make two attemps: one for all venues category and one for restaurant only (because we all love food).\n",
    "\n",
    "\n",
    "\n",
    "\n",
    "\n",
    "Target audiences: anyone who likes to explore Taipei, especially from the viewpoint of a foreigner with little language to communicate."
   ]
  },
  {
   "cell_type": "code",
   "execution_count": null,
   "metadata": {},
   "outputs": [],
   "source": []
  }
 ],
 "metadata": {
  "kernelspec": {
   "display_name": "Python",
   "language": "python",
   "name": "conda-env-python-py"
  },
  "language_info": {
   "codemirror_mode": {
    "name": "ipython",
    "version": 3
   },
   "file_extension": ".py",
   "mimetype": "text/x-python",
   "name": "python",
   "nbconvert_exporter": "python",
   "pygments_lexer": "ipython3",
   "version": "3.6.7"
  }
 },
 "nbformat": 4,
 "nbformat_minor": 4
}
